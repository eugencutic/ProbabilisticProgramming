{
 "cells": [
  {
   "cell_type": "code",
   "execution_count": 1,
   "metadata": {},
   "outputs": [],
   "source": [
    "import pymc as pm\n",
    "import numpy as np\n",
    "from matplotlib import pyplot as plt\n",
    "import pandas as pd"
   ]
  },
  {
   "cell_type": "code",
   "execution_count": 2,
   "metadata": {},
   "outputs": [],
   "source": [
    "a, b, c = 0, 1, 0"
   ]
  },
  {
   "cell_type": "code",
   "execution_count": 20,
   "metadata": {},
   "outputs": [],
   "source": [
    "@pm.stochastic(dtype=float)\n",
    "def Z(value=c, a=a, b=b, c=c):\n",
    "    ## dam log(probabilitate) in loc de probabilitate pt ca asa functioneaza pm.mcmc\n",
    "    def logp(value, a, b, c):\n",
    "        if a <= value < c:\n",
    "            return np.log(2 * (value - a)/((b - a) * (c - a)))\n",
    "        if value == c:\n",
    "            return np.log(2/(b - a))\n",
    "        if c < value <= b:\n",
    "            return np.log(2 * (b - value) / ((b - a) * (b - c)))\n",
    "        return -np.inf\n",
    "    \n",
    "    def random(a, b, c):\n",
    "        return np.random.triangular(a, c, b)"
   ]
  },
  {
   "cell_type": "code",
   "execution_count": 21,
   "metadata": {},
   "outputs": [],
   "source": [
    "model = pm.Model([Z])\n",
    "mcmc = pm.MCMC(model)"
   ]
  },
  {
   "cell_type": "code",
   "execution_count": 22,
   "metadata": {},
   "outputs": [
    {
     "name": "stdout",
     "output_type": "stream",
     "text": [
      " [-----------------100%-----------------] 40000 of 40000 complete in 1.3 sec"
     ]
    }
   ],
   "source": [
    "mcmc.sample(40000, 10000, 1)"
   ]
  },
  {
   "cell_type": "code",
   "execution_count": 23,
   "metadata": {},
   "outputs": [],
   "source": [
    "Z_samples = mcmc.trace(Z)[:]"
   ]
  },
  {
   "cell_type": "code",
   "execution_count": 24,
   "metadata": {},
   "outputs": [
    {
     "data": {
      "text/plain": [
       "0.3328111421464364"
      ]
     },
     "execution_count": 24,
     "metadata": {},
     "output_type": "execute_result"
    }
   ],
   "source": [
    "abs(Z_samples).mean()"
   ]
  },
  {
   "cell_type": "code",
   "execution_count": 25,
   "metadata": {},
   "outputs": [
    {
     "data": {
      "text/plain": [
       "(array([5806., 5051., 4465., 3822., 3293., 2713., 1978., 1549.,  973.,\n",
       "         350.]),\n",
       " array([1.89905406e-05, 9.95541927e-02, 1.99089395e-01, 2.98624597e-01,\n",
       "        3.98159799e-01, 4.97695001e-01, 5.97230204e-01, 6.96765406e-01,\n",
       "        7.96300608e-01, 8.95835810e-01, 9.95371012e-01]),\n",
       " <a list of 10 Patch objects>)"
      ]
     },
     "execution_count": 25,
     "metadata": {},
     "output_type": "execute_result"
    },
    {
     "data": {
      "image/png": "[encoded data removed]",
      "text/plain": [
       "<Figure size 432x288 with 1 Axes>"
      ]
     },
     "metadata": {
      "needs_background": "light"
     },
     "output_type": "display_data"
    }
   ],
   "source": [
    "plt.hist(Z_samples)"
   ]
  },
  {
   "cell_type": "code",
   "execution_count": 26,
   "metadata": {},
   "outputs": [],
   "source": [
    "##validation\n",
    "X1 = pm.Uniform('X1', lower=0, upper=1)\n",
    "X2 = pm.Uniform('X2', lower=0, upper=1)"
   ]
  },
  {
   "cell_type": "code",
   "execution_count": 33,
   "metadata": {},
   "outputs": [],
   "source": [
    "##validation\n",
    "@pm.deterministic\n",
    "def Z_sim(X1=X1, X2=X2):\n",
    "    return abs(X1 - X2)"
   ]
  },
  {
   "cell_type": "code",
   "execution_count": 48,
   "metadata": {},
   "outputs": [
    {
     "name": "stderr",
     "output_type": "stream",
     "text": [
      "C:\\Users\\eugen\\anaconda3\\envs\\prob-prog\\lib\\site-packages\\pymc\\MCMC.py:81: UserWarning: Instantiating a Model object directly is deprecated. We recommend passing variables directly to the Model subclass.\n",
      "  warnings.warn(message)\n"
     ]
    }
   ],
   "source": [
    "##validation\n",
    "model = pm.Model([Z_sim, X1, X2])\n",
    "mcmc = pm.MCMC(model)"
   ]
  },
  {
   "cell_type": "code",
   "execution_count": 49,
   "metadata": {},
   "outputs": [
    {
     "name": "stdout",
     "output_type": "stream",
     "text": [
      " [-----------------100%-----------------] 40000 of 40000 complete in 1.7 sec"
     ]
    }
   ],
   "source": [
    "##validation\n",
    "mcmc.sample(40000, 10000, 1)"
   ]
  },
  {
   "cell_type": "code",
   "execution_count": 50,
   "metadata": {},
   "outputs": [],
   "source": [
    "##validation\n",
    "Z_samples_sim = mcmc.trace(Z_sim)[:]"
   ]
  },
  {
   "cell_type": "code",
   "execution_count": 51,
   "metadata": {},
   "outputs": [
    {
     "data": {
      "text/plain": [
       "(array([1.94437073, 1.69152886, 1.49528338, 1.27994918, 1.10279242,\n",
       "        0.90855628, 0.66241221, 0.51874445, 0.32584787, 0.11721146]),\n",
       " array([1.89905406e-05, 9.95541927e-02, 1.99089395e-01, 2.98624597e-01,\n",
       "        3.98159799e-01, 4.97695001e-01, 5.97230204e-01, 6.96765406e-01,\n",
       "        7.96300608e-01, 8.95835810e-01, 9.95371012e-01]),\n",
       " <a list of 1 Patch objects>)"
      ]
     },
     "execution_count": 51,
     "metadata": {},
     "output_type": "execute_result"
    },
    {
     "data": {
      "image/png": "[encoded data removed]",
      "text/plain": [
       "<Figure size 432x288 with 1 Axes>"
      ]
     },
     "metadata": {
      "needs_background": "light"
     },
     "output_type": "display_data"
    }
   ],
   "source": [
    "##validation\n",
    "plt.hist(Z_samples_sim, density=True, histtype='step')\n",
    "plt.hist(Z_samples, density=True, histtype='step')"
   ]
  },
  {
   "cell_type": "code",
   "execution_count": 52,
   "metadata": {},
   "outputs": [
    {
     "data": {
      "text/plain": [
       "array([0.01863   , 0.17003165, 0.07014731, ..., 0.30967917, 0.19453684,\n",
       "       0.53021261])"
      ]
     },
     "execution_count": 52,
     "metadata": {},
     "output_type": "execute_result"
    }
   ],
   "source": [
    "Z_samples_sim"
   ]
  },
  {
   "cell_type": "code",
   "execution_count": null,
   "metadata": {},
   "outputs": [],
   "source": []
  }
 ],
 "metadata": {
  "kernelspec": {
   "display_name": "Python 3",
   "language": "python",
   "name": "python3"
  },
  "language_info": {
   "codemirror_mode": {
    "name": "ipython",
    "version": 3
   },
   "file_extension": ".py",
   "mimetype": "text/x-python",
   "name": "python",
   "nbconvert_exporter": "python",
   "pygments_lexer": "ipython3",
   "version": "3.7.9"
  }
 },
 "nbformat": 4,
 "nbformat_minor": 4
}
